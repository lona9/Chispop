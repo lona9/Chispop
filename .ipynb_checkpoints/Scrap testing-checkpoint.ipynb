{
 "cells": [
  {
   "cell_type": "markdown",
   "metadata": {},
   "source": [
    "## Scrap testing"
   ]
  },
  {
   "cell_type": "code",
   "execution_count": 4,
   "metadata": {},
   "outputs": [
    {
     "name": "stdout",
     "output_type": "stream",
     "text": [
      "Collecting requests_html\n",
      "  Downloading requests_html-0.10.0-py3-none-any.whl (13 kB)\n",
      "Collecting parse\n",
      "  Downloading parse-1.19.0.tar.gz (30 kB)\n",
      "Collecting fake-useragent\n",
      "  Downloading fake-useragent-0.1.11.tar.gz (13 kB)\n",
      "Collecting w3lib\n",
      "  Downloading w3lib-1.22.0-py2.py3-none-any.whl (20 kB)\n",
      "Collecting pyppeteer>=0.0.14\n",
      "  Downloading pyppeteer-0.2.6-py3-none-any.whl (83 kB)\n",
      "\u001b[K     |████████████████████████████████| 83 kB 467 kB/s eta 0:00:01\n",
      "\u001b[?25hCollecting bs4\n",
      "  Downloading bs4-0.0.1.tar.gz (1.1 kB)\n",
      "Collecting pyquery\n",
      "  Downloading pyquery-1.4.3-py3-none-any.whl (22 kB)\n",
      "Requirement already satisfied: requests in /Users/pilarvasquez/opt/anaconda3/lib/python3.8/site-packages (from requests_html) (2.25.1)\n",
      "Requirement already satisfied: urllib3<2.0.0,>=1.25.8 in /Users/pilarvasquez/opt/anaconda3/lib/python3.8/site-packages (from pyppeteer>=0.0.14->requests_html) (1.26.4)\n",
      "Requirement already satisfied: appdirs<2.0.0,>=1.4.3 in /Users/pilarvasquez/opt/anaconda3/lib/python3.8/site-packages (from pyppeteer>=0.0.14->requests_html) (1.4.4)\n",
      "Requirement already satisfied: importlib-metadata>=1.4 in /Users/pilarvasquez/opt/anaconda3/lib/python3.8/site-packages (from pyppeteer>=0.0.14->requests_html) (3.10.0)\n",
      "Collecting pyee<9.0.0,>=8.1.0\n",
      "  Downloading pyee-8.2.2-py2.py3-none-any.whl (12 kB)\n",
      "Collecting websockets<10.0,>=9.1\n",
      "  Downloading websockets-9.1-cp38-cp38-macosx_10_9_x86_64.whl (88 kB)\n",
      "\u001b[K     |████████████████████████████████| 88 kB 1.2 MB/s eta 0:00:01\n",
      "\u001b[?25hRequirement already satisfied: tqdm<5.0.0,>=4.42.1 in /Users/pilarvasquez/opt/anaconda3/lib/python3.8/site-packages (from pyppeteer>=0.0.14->requests_html) (4.59.0)\n",
      "Requirement already satisfied: zipp>=0.5 in /Users/pilarvasquez/opt/anaconda3/lib/python3.8/site-packages (from importlib-metadata>=1.4->pyppeteer>=0.0.14->requests_html) (3.4.1)\n",
      "Requirement already satisfied: beautifulsoup4 in /Users/pilarvasquez/opt/anaconda3/lib/python3.8/site-packages (from bs4->requests_html) (4.9.3)\n",
      "Requirement already satisfied: soupsieve>1.2 in /Users/pilarvasquez/opt/anaconda3/lib/python3.8/site-packages (from beautifulsoup4->bs4->requests_html) (2.2.1)\n",
      "Requirement already satisfied: lxml>=2.1 in /Users/pilarvasquez/opt/anaconda3/lib/python3.8/site-packages (from pyquery->requests_html) (4.6.3)\n",
      "Collecting cssselect>0.7.9\n",
      "  Downloading cssselect-1.1.0-py2.py3-none-any.whl (16 kB)\n",
      "Requirement already satisfied: chardet<5,>=3.0.2 in /Users/pilarvasquez/opt/anaconda3/lib/python3.8/site-packages (from requests->requests_html) (4.0.0)\n",
      "Requirement already satisfied: idna<3,>=2.5 in /Users/pilarvasquez/opt/anaconda3/lib/python3.8/site-packages (from requests->requests_html) (2.10)\n",
      "Requirement already satisfied: certifi>=2017.4.17 in /Users/pilarvasquez/opt/anaconda3/lib/python3.8/site-packages (from requests->requests_html) (2020.12.5)\n",
      "Requirement already satisfied: six>=1.4.1 in /Users/pilarvasquez/opt/anaconda3/lib/python3.8/site-packages (from w3lib->requests_html) (1.15.0)\n",
      "Building wheels for collected packages: bs4, fake-useragent, parse\n",
      "  Building wheel for bs4 (setup.py) ... \u001b[?25ldone\n",
      "\u001b[?25h  Created wheel for bs4: filename=bs4-0.0.1-py3-none-any.whl size=1273 sha256=3edc0886f97b3c6b4bdbafb511aef7d9f5793ccfa904efabaa23701753f42835\n",
      "  Stored in directory: /Users/pilarvasquez/Library/Caches/pip/wheels/75/78/21/68b124549c9bdc94f822c02fb9aa3578a669843f9767776bca\n",
      "  Building wheel for fake-useragent (setup.py) ... \u001b[?25ldone\n",
      "\u001b[?25h  Created wheel for fake-useragent: filename=fake_useragent-0.1.11-py3-none-any.whl size=13486 sha256=31fd0f109581a001192f46d4bd7b7a7510012bb73a257fb22150d2ff168ce452\n",
      "  Stored in directory: /Users/pilarvasquez/Library/Caches/pip/wheels/a0/b8/b7/8c942b2c5be5158b874a88195116b05ad124bac795f6665e65\n",
      "  Building wheel for parse (setup.py) ... \u001b[?25ldone\n",
      "\u001b[?25h  Created wheel for parse: filename=parse-1.19.0-py3-none-any.whl size=24581 sha256=efee7901a37d5312a0cba914f879231123ee4ddeaea493adb04153972e9d64c8\n",
      "  Stored in directory: /Users/pilarvasquez/Library/Caches/pip/wheels/e5/33/1f/68392720485b3ecf125a69e700baaab7624616deedea2fa6e2\n",
      "Successfully built bs4 fake-useragent parse\n",
      "Installing collected packages: websockets, pyee, cssselect, w3lib, pyquery, pyppeteer, parse, fake-useragent, bs4, requests-html\n",
      "Successfully installed bs4-0.0.1 cssselect-1.1.0 fake-useragent-0.1.11 parse-1.19.0 pyee-8.2.2 pyppeteer-0.2.6 pyquery-1.4.3 requests-html-0.10.0 w3lib-1.22.0 websockets-9.1\n",
      "Note: you may need to restart the kernel to use updated packages.\n"
     ]
    }
   ],
   "source": [
    "pip install requests_html"
   ]
  },
  {
   "cell_type": "code",
   "execution_count": 2,
   "metadata": {},
   "outputs": [],
   "source": [
    "from requests_html import AsyncHTMLSession"
   ]
  },
  {
   "cell_type": "code",
   "execution_count": 8,
   "metadata": {
    "scrolled": false
   },
   "outputs": [
    {
     "name": "stdout",
     "output_type": "stream",
     "text": [
      "Disponible\n",
      "Pokmon TCG: Celebrations Collection Dragapult Pri 22990 Zmart.cl\n",
      "<class 'str'> <class 'int'> <class 'str'>\n"
     ]
    }
   ],
   "source": [
    "## zmart\n",
    "url = \"https://www.zmart.cl/scripts/prodView.asp?idProduct=80337\"\n",
    "\n",
    "asession = AsyncHTMLSession()\n",
    "\n",
    "r = await asession.get('https://www.zmart.cl/scripts/prodView.asp?idProduct=82573')\n",
    "\n",
    "div = r.html.find(\"div[id = 'PriceProduct']\", first=True)\n",
    "div =  div.full_text.encode(\"ascii\", \"ignore\")\n",
    "div = div.decode()\n",
    "\n",
    "precio = [x for x in div if x.isdigit()]\n",
    "precio = \"\".join(precio)\n",
    "precio = int(precio)\n",
    "\n",
    "nombre = r.html.find(\"title\", first=True)\n",
    "nombre = nombre.full_text.encode(\"ascii\", \"ignore\")\n",
    "nombre = nombre.decode()\n",
    "nombre = nombre[:-11]\n",
    "\n",
    "try:\n",
    "    status = r.html.find(\"div[class = 'txTituloRef']\", first=True)\n",
    "    status = status.full_text.encode(\"ascii\", \"ignore\")\n",
    "    status = status.decode()\n",
    "    if \"DISPONIBLE\" in status or \"EARLY\" in status:\n",
    "        status = \"Disponible\"\n",
    "    else:\n",
    "        status = \"Agotado\"\n",
    "except:\n",
    "    status = r.html.find(\"div[class = 'txTituloRef dv260px']\", first=True)\n",
    "    status = status.full_text.encode(\"ascii\", \"ignore\")\n",
    "    status = status.decode()\n",
    "    if \"DISPONIBLE\" in status or \"EARLY\" in status:\n",
    "        status = \"Disponible\"\n",
    "    else:\n",
    "        status = \"Agotado\"\n",
    "    print(status)\n",
    "\n",
    "tienda = \"Zmart.cl\"\n",
    "\n",
    "info = [nombre, precio, tienda]\n",
    "print(nombre, precio, tienda)\n",
    "\n",
    "print(type(nombre), type(precio), type(tienda))"
   ]
  },
  {
   "cell_type": "code",
   "execution_count": 53,
   "metadata": {
    "scrolled": true
   },
   "outputs": [],
   "source": [
    "## microplay\n",
    "url = \"https://www.zmart.cl/scripts/prodView.asp?idProduct=80337\"\n",
    "\n",
    "asession = AsyncHTMLSession()\n",
    "\n",
    "r = await asession.get('https://www.microplay.cl/producto/tazon-harry-potter-hogwarts-paladone/')\n",
    "\n",
    "nombre = r.html.find(\"h1\", first=True)\n",
    "nombre = nombre.full_text.encode(\"ascii\", \"ignore\")\n",
    "nombre = nombre.decode()\n",
    "nombre = nombre.strip()\n",
    "\n",
    "precio = r.html.find('script[type=\"text/javascript\"]')[10].full_text\n",
    "precios = precio.splitlines()\n",
    "precio = [x for x in precios if 'price' in x]\n",
    "precio = precio[0].strip().split(',')[0]\n",
    "precio = [x for x in precio if x.isdigit()]\n",
    "precio = int(\"\".join(precio))\n",
    "\n",
    "tienda = \"Microplay\""
   ]
  },
  {
   "cell_type": "code",
   "execution_count": 3,
   "metadata": {},
   "outputs": [
    {
     "name": "stdout",
     "output_type": "stream",
     "text": [
      "One Piece: Pirate Warriors 4 Switch\n",
      "39990\n",
      "<class 'str'>\n"
     ]
    }
   ],
   "source": [
    "## weplay\n",
    "\n",
    "asession = AsyncHTMLSession()\n",
    "\n",
    "r = await asession.get('https://www.weplay.cl/one-piece-pirate-warriors-4-switch.html')\n",
    "\n",
    "nombre = r.html.find('title', first=True)\n",
    "nombre = nombre.full_text.encode(\"ascii\", \"ignore\")\n",
    "nombre = nombre.decode()\n",
    "\n",
    "tienda = \"WePlay\"\n",
    "\n",
    "precio = r.html.find('span[class = \"price\"]', first=True)\n",
    "precio = precio.full_text\n",
    "precio = [x for x in precio if x.isdigit()]\n",
    "precio = int(\"\".join(precio))\n",
    "\n",
    "print(nombre)\n",
    "print(precio)\n",
    "print(type(nombre))"
   ]
  },
  {
   "cell_type": "code",
   "execution_count": 79,
   "metadata": {},
   "outputs": [
    {
     "name": "stdout",
     "output_type": "stream",
     "text": [
      "Timeline: Eventos - Blister ECO\n",
      "8990\n"
     ]
    }
   ],
   "source": [
    "## warpig\n",
    "\n",
    "asession = AsyncHTMLSession()\n",
    "\n",
    "r = await asession.get('https://www.warpig.cl/product/timeline-eventos-blister-eco')\n",
    "nombre = r.html.find('title', first=True)\n",
    "nombre = nombre.full_text.encode(\"ascii\", \"ignore\")\n",
    "nombre = nombre.decode()\n",
    "nombre = nombre[:-15]\n",
    "\n",
    "precio = r.html.find('span[data-bs=\"product.finalPrice\"]', first=True)\n",
    "precio = precio.full_text\n",
    "precio = [x for x in precio if x.isdigit()]\n",
    "precio = int(\"\".join(precio))\n",
    "\n",
    "tienda = \"Warpig Games\"\n",
    "\n",
    "print(nombre)\n",
    "print(precio)"
   ]
  },
  {
   "cell_type": "code",
   "execution_count": 83,
   "metadata": {},
   "outputs": [
    {
     "name": "stdout",
     "output_type": "stream",
     "text": [
      "Dixit\n",
      "28000\n"
     ]
    }
   ],
   "source": [
    "## planeta loz\n",
    "\n",
    "asession = AsyncHTMLSession()\n",
    "\n",
    "r = await asession.get('https://www.planetaloz.cl/juegos-de-mesa/97-dixit.html')\n",
    "nombre = r.html.find('title', first=True)\n",
    "nombre = nombre.full_text.encode(\"ascii\", \"ignore\")\n",
    "nombre = nombre.decode()\n",
    "\n",
    "precio = r.html.find('span[itemprop=\"price\"]', first=True)\n",
    "precio = precio.full_text\n",
    "precio = [x for x in precio if x.isdigit()]\n",
    "precio = int(\"\".join(precio))\n",
    "\n",
    "print(nombre)\n",
    "print(precio)"
   ]
  },
  {
   "cell_type": "code",
   "execution_count": 6,
   "metadata": {
    "scrolled": true
   },
   "outputs": [
    {
     "name": "stdout",
     "output_type": "stream",
     "text": [
      "359990\n"
     ]
    }
   ],
   "source": [
    "## linio\n",
    "\n",
    "asession = AsyncHTMLSession()\n",
    "\n",
    "r = await asession.get('https://www.linio.cl/p/consola-nintendo-switch-animal-crossing-edition-rzbabb')\n",
    "\n",
    "nombre = r.html.find('title', first=True)\n",
    "nombre = nombre.full_text.encode(\"ascii\", \"ignore\")\n",
    "nombre = nombre.decode()\n",
    "nombre = nombre.split('|')[0].strip()\n",
    "\n",
    "precio = r.html.find('span[class = \"price-main-md\"]', first=True)\n",
    "precio = precio.full_text\n",
    "precio = [x for x in precio if x.isdigit()]\n",
    "precio = int(\"\".join(precio))"
   ]
  },
  {
   "cell_type": "code",
   "execution_count": 11,
   "metadata": {},
   "outputs": [
    {
     "name": "stdout",
     "output_type": "stream",
     "text": [
      "Consola Nintendo Switch Neon\n",
      "349990\n"
     ]
    }
   ],
   "source": [
    "## paris\n",
    "\n",
    "asession = AsyncHTMLSession()\n",
    "\n",
    "r = await asession.get('https://www.paris.cl/consola-nintendo-switch-neon-259382999.html')\n",
    "\n",
    "nombre = r.html.find('span[class=\"breadcrumb-element\"]', first=True)\n",
    "nombre = nombre.full_text.encode(\"ascii\", \"ignore\")\n",
    "nombre = nombre.decode()\n",
    "\n",
    "precio = r.html.find('span[itemprop=\"price\"]', first=True)\n",
    "precio = precio.full_text\n",
    "precio = [x for x in precio if x.isdigit()]\n",
    "precio = int(\"\".join(precio))"
   ]
  }
 ],
 "metadata": {
  "kernelspec": {
   "display_name": "Python 3",
   "language": "python",
   "name": "python3"
  },
  "language_info": {
   "codemirror_mode": {
    "name": "ipython",
    "version": 3
   },
   "file_extension": ".py",
   "mimetype": "text/x-python",
   "name": "python",
   "nbconvert_exporter": "python",
   "pygments_lexer": "ipython3",
   "version": "3.8.8"
  }
 },
 "nbformat": 4,
 "nbformat_minor": 4
}
