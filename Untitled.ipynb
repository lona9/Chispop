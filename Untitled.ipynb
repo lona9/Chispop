{
 "cells": [
  {
   "cell_type": "code",
   "execution_count": 41,
   "metadata": {},
   "outputs": [],
   "source": [
    "from requests_html import AsyncHTMLSession"
   ]
  },
  {
   "cell_type": "code",
   "execution_count": 101,
   "metadata": {
    "scrolled": false
   },
   "outputs": [
    {
     "name": "stdout",
     "output_type": "stream",
     "text": [
      "Super Mario 3D World + Bowser’s Fury NSW | Zmart.cl\n",
      "<class 'str'>\n",
      "<class 'str'>\n"
     ]
    }
   ],
   "source": [
    "## zmart\n",
    "url = \"https://www.zmart.cl/scripts/prodView.asp?idProduct=80337\"\n",
    "\n",
    "asession = AsyncHTMLSession()\n",
    "\n",
    "r = await asession.get('https://www.zmart.cl/scripts/prodView.asp?idProduct=80337')\n",
    "\n",
    "div = r.html.find(\"div[id = 'PriceProduct']\", first=True)\n",
    "div = str(div.full_text)\n",
    "\n",
    "precio = [x for x in div if x.isdigit()]\n",
    "precio = \"\".join(precio)\n",
    "\n",
    "nombre = r.html.find(\"title\", first=True)\n",
    "nombre = str(nombre.full_text)\n",
    "print(nombre)\n",
    "print(type(nombre))\n",
    "print(type(precio))"
   ]
  },
  {
   "cell_type": "code",
   "execution_count": null,
   "metadata": {},
   "outputs": [],
   "source": []
  }
 ],
 "metadata": {
  "kernelspec": {
   "display_name": "Python 3",
   "language": "python",
   "name": "python3"
  },
  "language_info": {
   "codemirror_mode": {
    "name": "ipython",
    "version": 3
   },
   "file_extension": ".py",
   "mimetype": "text/x-python",
   "name": "python",
   "nbconvert_exporter": "python",
   "pygments_lexer": "ipython3",
   "version": "3.8.5"
  }
 },
 "nbformat": 4,
 "nbformat_minor": 4
}
