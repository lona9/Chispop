{
 "cells": [
  {
   "cell_type": "markdown",
   "metadata": {},
   "source": [
    "## Scrap testing"
   ]
  },
  {
   "cell_type": "code",
   "execution_count": 1,
   "metadata": {},
   "outputs": [
    {
     "name": "stdout",
     "output_type": "stream",
     "text": [
      "Requirement already satisfied: requests_html in /Users/pilarvasquez/opt/anaconda3/lib/python3.8/site-packages (0.10.0)\n",
      "Requirement already satisfied: w3lib in /Users/pilarvasquez/opt/anaconda3/lib/python3.8/site-packages (from requests_html) (1.22.0)\n",
      "Requirement already satisfied: pyquery in /Users/pilarvasquez/opt/anaconda3/lib/python3.8/site-packages (from requests_html) (1.4.3)\n",
      "Requirement already satisfied: pyppeteer>=0.0.14 in /Users/pilarvasquez/opt/anaconda3/lib/python3.8/site-packages (from requests_html) (0.2.6)\n",
      "Requirement already satisfied: requests in /Users/pilarvasquez/opt/anaconda3/lib/python3.8/site-packages (from requests_html) (2.25.1)\n",
      "Requirement already satisfied: parse in /Users/pilarvasquez/opt/anaconda3/lib/python3.8/site-packages (from requests_html) (1.19.0)\n",
      "Requirement already satisfied: fake-useragent in /Users/pilarvasquez/opt/anaconda3/lib/python3.8/site-packages (from requests_html) (0.1.11)\n",
      "Requirement already satisfied: bs4 in /Users/pilarvasquez/opt/anaconda3/lib/python3.8/site-packages (from requests_html) (0.0.1)\n",
      "Requirement already satisfied: websockets<10.0,>=9.1 in /Users/pilarvasquez/opt/anaconda3/lib/python3.8/site-packages (from pyppeteer>=0.0.14->requests_html) (9.1)\n",
      "Requirement already satisfied: urllib3<2.0.0,>=1.25.8 in /Users/pilarvasquez/opt/anaconda3/lib/python3.8/site-packages (from pyppeteer>=0.0.14->requests_html) (1.26.4)\n",
      "Requirement already satisfied: appdirs<2.0.0,>=1.4.3 in /Users/pilarvasquez/opt/anaconda3/lib/python3.8/site-packages (from pyppeteer>=0.0.14->requests_html) (1.4.4)\n",
      "Requirement already satisfied: tqdm<5.0.0,>=4.42.1 in /Users/pilarvasquez/opt/anaconda3/lib/python3.8/site-packages (from pyppeteer>=0.0.14->requests_html) (4.59.0)\n",
      "Requirement already satisfied: pyee<9.0.0,>=8.1.0 in /Users/pilarvasquez/opt/anaconda3/lib/python3.8/site-packages (from pyppeteer>=0.0.14->requests_html) (8.2.2)\n",
      "Requirement already satisfied: importlib-metadata>=1.4 in /Users/pilarvasquez/opt/anaconda3/lib/python3.8/site-packages (from pyppeteer>=0.0.14->requests_html) (3.10.0)\n",
      "Requirement already satisfied: zipp>=0.5 in /Users/pilarvasquez/opt/anaconda3/lib/python3.8/site-packages (from importlib-metadata>=1.4->pyppeteer>=0.0.14->requests_html) (3.4.1)\n",
      "Requirement already satisfied: beautifulsoup4 in /Users/pilarvasquez/opt/anaconda3/lib/python3.8/site-packages (from bs4->requests_html) (4.9.3)\n",
      "Requirement already satisfied: soupsieve>1.2 in /Users/pilarvasquez/opt/anaconda3/lib/python3.8/site-packages (from beautifulsoup4->bs4->requests_html) (2.2.1)\n",
      "Requirement already satisfied: lxml>=2.1 in /Users/pilarvasquez/opt/anaconda3/lib/python3.8/site-packages (from pyquery->requests_html) (4.6.3)\n",
      "Requirement already satisfied: cssselect>0.7.9 in /Users/pilarvasquez/opt/anaconda3/lib/python3.8/site-packages (from pyquery->requests_html) (1.1.0)\n",
      "Requirement already satisfied: certifi>=2017.4.17 in /Users/pilarvasquez/opt/anaconda3/lib/python3.8/site-packages (from requests->requests_html) (2020.12.5)\n",
      "Requirement already satisfied: chardet<5,>=3.0.2 in /Users/pilarvasquez/opt/anaconda3/lib/python3.8/site-packages (from requests->requests_html) (4.0.0)\n",
      "Requirement already satisfied: idna<3,>=2.5 in /Users/pilarvasquez/opt/anaconda3/lib/python3.8/site-packages (from requests->requests_html) (2.10)\n",
      "Requirement already satisfied: six>=1.4.1 in /Users/pilarvasquez/opt/anaconda3/lib/python3.8/site-packages (from w3lib->requests_html) (1.15.0)\n",
      "Note: you may need to restart the kernel to use updated packages.\n"
     ]
    }
   ],
   "source": [
    "pip install requests_html"
   ]
  },
  {
   "cell_type": "code",
   "execution_count": 2,
   "metadata": {},
   "outputs": [],
   "source": [
    "from requests_html import AsyncHTMLSession"
   ]
  },
  {
   "cell_type": "code",
   "execution_count": 8,
   "metadata": {
    "scrolled": false
   },
   "outputs": [
    {
     "name": "stdout",
     "output_type": "stream",
     "text": [
      "PRODUCTO AGOTADO\n",
      "Agotado\n"
     ]
    }
   ],
   "source": [
    "## zmart\n",
    "url = \"https://www.zmart.cl/scripts/prodView.asp?idProduct=82553\"\n",
    "\n",
    "asession = AsyncHTMLSession()\n",
    "\n",
    "r = await asession.get('https://www.zmart.cl/scripts/prodView.asp?idProduct=82553')\n",
    "\n",
    "div = r.html.find(\"div[id = 'PriceProduct']\", first=True)\n",
    "div =  div.full_text.encode(\"ascii\", \"ignore\")\n",
    "div = div.decode()\n",
    "\n",
    "precio = [x for x in div if x.isdigit()]\n",
    "precio = \"\".join(precio)\n",
    "precio = int(precio)\n",
    "\n",
    "nombre = r.html.find(\"title\", first=True)\n",
    "nombre = nombre.full_text.encode(\"ascii\", \"ignore\")\n",
    "nombre = nombre.decode()\n",
    "nombre = nombre[:-11]\n",
    "\n",
    "try:\n",
    "    status = r.html.find(\"div[class = 'txTituloRef']\", first=True)\n",
    "    status = status.full_text.encode(\"ascii\", \"ignore\")\n",
    "    status = status.decode()\n",
    "    print(status)\n",
    "    if \"DISPONIBLE\" in status or \"EARLY\" in status:\n",
    "        status = \"Disponible\"\n",
    "    else:\n",
    "        status = \"Agotado\"\n",
    "except:\n",
    "    status = r.html.find(\"div[class = 'txTituloRef dv260px']\", first=True)\n",
    "    status = status.full_text.encode(\"ascii\", \"ignore\")\n",
    "    status = status.decode()\n",
    "    print(status)\n",
    "    if \"DISPONIBLE\" in status or \"EARLY\" in status:\n",
    "        status = \"Disponible\"\n",
    "    else:\n",
    "        status = \"Agotado\"\n",
    "\n",
    "tienda = \"Zmart.cl\"\n",
    "\n",
    "info = [nombre, precio, tienda]\n",
    "print(status)"
   ]
  },
  {
   "cell_type": "code",
   "execution_count": 53,
   "metadata": {
    "scrolled": true
   },
   "outputs": [],
   "source": [
    "## microplay\n",
    "url = \"https://www.zmart.cl/scripts/prodView.asp?idProduct=80337\"\n",
    "\n",
    "asession = AsyncHTMLSession()\n",
    "\n",
    "r = await asession.get('https://www.microplay.cl/producto/tazon-harry-potter-hogwarts-paladone/')\n",
    "\n",
    "nombre = r.html.find(\"h1\", first=True)\n",
    "nombre = nombre.full_text.encode(\"ascii\", \"ignore\")\n",
    "nombre = nombre.decode()\n",
    "nombre = nombre.strip()\n",
    "\n",
    "precio = r.html.find('script[type=\"text/javascript\"]')[10].full_text\n",
    "precios = precio.splitlines()\n",
    "precio = [x for x in precios if 'price' in x]\n",
    "precio = precio[0].strip().split(',')[0]\n",
    "precio = [x for x in precio if x.isdigit()]\n",
    "precio = int(\"\".join(precio))\n",
    "\n",
    "tienda = \"Microplay\""
   ]
  },
  {
   "cell_type": "code",
   "execution_count": 3,
   "metadata": {},
   "outputs": [
    {
     "name": "stdout",
     "output_type": "stream",
     "text": [
      "One Piece: Pirate Warriors 4 Switch\n",
      "39990\n",
      "<class 'str'>\n"
     ]
    }
   ],
   "source": [
    "## weplay\n",
    "\n",
    "asession = AsyncHTMLSession()\n",
    "\n",
    "r = await asession.get('https://www.weplay.cl/one-piece-pirate-warriors-4-switch.html')\n",
    "\n",
    "nombre = r.html.find('title', first=True)\n",
    "nombre = nombre.full_text.encode(\"ascii\", \"ignore\")\n",
    "nombre = nombre.decode()\n",
    "\n",
    "tienda = \"WePlay\"\n",
    "\n",
    "precio = r.html.find('span[class = \"price\"]', first=True)\n",
    "precio = precio.full_text\n",
    "precio = [x for x in precio if x.isdigit()]\n",
    "precio = int(\"\".join(precio))\n",
    "\n",
    "print(nombre)\n",
    "print(precio)\n",
    "print(type(nombre))"
   ]
  },
  {
   "cell_type": "code",
   "execution_count": 79,
   "metadata": {},
   "outputs": [
    {
     "name": "stdout",
     "output_type": "stream",
     "text": [
      "Timeline: Eventos - Blister ECO\n",
      "8990\n"
     ]
    }
   ],
   "source": [
    "## warpig\n",
    "\n",
    "asession = AsyncHTMLSession()\n",
    "\n",
    "r = await asession.get('https://www.warpig.cl/product/timeline-eventos-blister-eco')\n",
    "nombre = r.html.find('title', first=True)\n",
    "nombre = nombre.full_text.encode(\"ascii\", \"ignore\")\n",
    "nombre = nombre.decode()\n",
    "nombre = nombre[:-15]\n",
    "\n",
    "precio = r.html.find('span[data-bs=\"product.finalPrice\"]', first=True)\n",
    "precio = precio.full_text\n",
    "precio = [x for x in precio if x.isdigit()]\n",
    "precio = int(\"\".join(precio))\n",
    "\n",
    "tienda = \"Warpig Games\"\n",
    "\n",
    "print(nombre)\n",
    "print(precio)"
   ]
  },
  {
   "cell_type": "code",
   "execution_count": 83,
   "metadata": {},
   "outputs": [
    {
     "name": "stdout",
     "output_type": "stream",
     "text": [
      "Dixit\n",
      "28000\n"
     ]
    }
   ],
   "source": [
    "## planeta loz\n",
    "\n",
    "asession = AsyncHTMLSession()\n",
    "\n",
    "r = await asession.get('https://www.planetaloz.cl/juegos-de-mesa/97-dixit.html')\n",
    "nombre = r.html.find('title', first=True)\n",
    "nombre = nombre.full_text.encode(\"ascii\", \"ignore\")\n",
    "nombre = nombre.decode()\n",
    "\n",
    "precio = r.html.find('span[itemprop=\"price\"]', first=True)\n",
    "precio = precio.full_text\n",
    "precio = [x for x in precio if x.isdigit()]\n",
    "precio = int(\"\".join(precio))\n",
    "\n",
    "print(nombre)\n",
    "print(precio)"
   ]
  },
  {
   "cell_type": "code",
   "execution_count": 6,
   "metadata": {
    "scrolled": true
   },
   "outputs": [
    {
     "name": "stdout",
     "output_type": "stream",
     "text": [
      "359990\n"
     ]
    }
   ],
   "source": [
    "## linio\n",
    "\n",
    "asession = AsyncHTMLSession()\n",
    "\n",
    "r = await asession.get('https://www.linio.cl/p/consola-nintendo-switch-animal-crossing-edition-rzbabb')\n",
    "\n",
    "nombre = r.html.find('title', first=True)\n",
    "nombre = nombre.full_text.encode(\"ascii\", \"ignore\")\n",
    "nombre = nombre.decode()\n",
    "nombre = nombre.split('|')[0].strip()\n",
    "\n",
    "precio = r.html.find('span[class = \"price-main-md\"]', first=True)\n",
    "precio = precio.full_text\n",
    "precio = [x for x in precio if x.isdigit()]\n",
    "precio = int(\"\".join(precio))"
   ]
  },
  {
   "cell_type": "code",
   "execution_count": 11,
   "metadata": {},
   "outputs": [
    {
     "name": "stdout",
     "output_type": "stream",
     "text": [
      "Consola Nintendo Switch Neon\n",
      "349990\n"
     ]
    }
   ],
   "source": [
    "## paris\n",
    "\n",
    "asession = AsyncHTMLSession()\n",
    "\n",
    "r = await asession.get('https://www.paris.cl/consola-nintendo-switch-neon-259382999.html')\n",
    "\n",
    "nombre = r.html.find('span[class=\"breadcrumb-element\"]', first=True)\n",
    "nombre = nombre.full_text.encode(\"ascii\", \"ignore\")\n",
    "nombre = nombre.decode()\n",
    "\n",
    "precio = r.html.find('span[itemprop=\"price\"]', first=True)\n",
    "precio = precio.full_text\n",
    "precio = [x for x in precio if x.isdigit()]\n",
    "precio = int(\"\".join(precio))"
   ]
  }
 ],
 "metadata": {
  "kernelspec": {
   "display_name": "Python 3",
   "language": "python",
   "name": "python3"
  },
  "language_info": {
   "codemirror_mode": {
    "name": "ipython",
    "version": 3
   },
   "file_extension": ".py",
   "mimetype": "text/x-python",
   "name": "python",
   "nbconvert_exporter": "python",
   "pygments_lexer": "ipython3",
   "version": "3.8.8"
  }
 },
 "nbformat": 4,
 "nbformat_minor": 4
}
