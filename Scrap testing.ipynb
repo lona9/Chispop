{
 "cells": [
  {
   "cell_type": "markdown",
   "metadata": {},
   "source": [
    "## Scrap testing"
   ]
  },
  {
   "cell_type": "code",
   "execution_count": 1,
   "metadata": {},
   "outputs": [],
   "source": [
    "from requests_html import AsyncHTMLSession"
   ]
  },
  {
   "cell_type": "code",
   "execution_count": 17,
   "metadata": {
    "scrolled": false
   },
   "outputs": [
    {
     "name": "stdout",
     "output_type": "stream",
     "text": [
      "Super Mario 3D World + Bowsers Fury NSW 59990 Zmart.cl\n",
      "<class 'str'> <class 'int'> <class 'str'>\n"
     ]
    }
   ],
   "source": [
    "## zmart\n",
    "url = \"https://www.zmart.cl/scripts/prodView.asp?idProduct=80337\"\n",
    "\n",
    "asession = AsyncHTMLSession()\n",
    "\n",
    "r = await asession.get('https://www.zmart.cl/scripts/prodView.asp?idProduct=80337')\n",
    "\n",
    "div = r.html.find(\"div[id = 'PriceProduct']\", first=True)\n",
    "div =  div.full_text.encode(\"ascii\", \"ignore\")\n",
    "div = div.decode()\n",
    "\n",
    "precio = [x for x in div if x.isdigit()]\n",
    "precio = \"\".join(precio)\n",
    "precio = int(precio)\n",
    "\n",
    "nombre = r.html.find(\"title\", first=True)\n",
    "nombre = nombre.full_text.encode(\"ascii\", \"ignore\")\n",
    "nombre = nombre.decode()\n",
    "nombre = nombre[:-11]\n",
    "\n",
    "tienda = \"Zmart.cl\"\n",
    "\n",
    "info = [nombre, precio, tienda]\n",
    "print(nombre, precio, tienda)\n",
    "\n",
    "print(type(nombre), type(precio), type(tienda))"
   ]
  },
  {
   "cell_type": "code",
   "execution_count": 53,
   "metadata": {
    "scrolled": true
   },
   "outputs": [],
   "source": [
    "## microplay\n",
    "url = \"https://www.zmart.cl/scripts/prodView.asp?idProduct=80337\"\n",
    "\n",
    "asession = AsyncHTMLSession()\n",
    "\n",
    "r = await asession.get('https://www.microplay.cl/producto/tazon-harry-potter-hogwarts-paladone/')\n",
    "\n",
    "nombre = r.html.find(\"h1\", first=True)\n",
    "nombre = nombre.full_text.encode(\"ascii\", \"ignore\")\n",
    "nombre = nombre.decode()\n",
    "nombre = nombre.strip()\n",
    "\n",
    "precio = r.html.find('script[type=\"text/javascript\"]')[10].full_text\n",
    "precios = precio.splitlines()\n",
    "precio = [x for x in precios if 'price' in x]\n",
    "precio = precio[0].strip().split(',')[0]\n",
    "precio = [x for x in precio if x.isdigit()]\n",
    "precio = int(\"\".join(precio))\n",
    "\n",
    "tienda = \"Microplay\""
   ]
  },
  {
   "cell_type": "code",
   "execution_count": 71,
   "metadata": {},
   "outputs": [
    {
     "name": "stdout",
     "output_type": "stream",
     "text": [
      "Audifono New Wireless Gold Headset Rose PS4\n",
      "99990\n",
      "<class 'str'>\n"
     ]
    }
   ],
   "source": [
    "## weplay\n",
    "\n",
    "asession = AsyncHTMLSession()\n",
    "\n",
    "r = await asession.get('https://www.weplay.cl/audifono-new-wireless-gold-headset-rose-ps4.html')\n",
    "\n",
    "nombre = r.html.find('title', first=True)\n",
    "nombre = nombre.full_text.encode(\"ascii\", \"ignore\")\n",
    "nombre = nombre.decode()\n",
    "\n",
    "tienda = \"WePlay\"\n",
    "\n",
    "precio = r.html.find('span[class = \"price\"]', first=True)\n",
    "precio = precio.full_text\n",
    "precio = [x for x in precio if x.isdigit()]\n",
    "precio = int(\"\".join(precio))\n",
    "\n",
    "print(nombre)\n",
    "print(precio)\n",
    "print(type(nombre))"
   ]
  },
  {
   "cell_type": "code",
   "execution_count": 79,
   "metadata": {},
   "outputs": [
    {
     "name": "stdout",
     "output_type": "stream",
     "text": [
      "Timeline: Eventos - Blister ECO\n",
      "8990\n"
     ]
    }
   ],
   "source": [
    "## warpig\n",
    "\n",
    "asession = AsyncHTMLSession()\n",
    "\n",
    "r = await asession.get('https://www.warpig.cl/product/timeline-eventos-blister-eco')\n",
    "nombre = r.html.find('title', first=True)\n",
    "nombre = nombre.full_text.encode(\"ascii\", \"ignore\")\n",
    "nombre = nombre.decode()\n",
    "nombre = nombre[:-15]\n",
    "\n",
    "precio = r.html.find('span[data-bs=\"product.finalPrice\"]', first=True)\n",
    "precio = precio.full_text\n",
    "precio = [x for x in precio if x.isdigit()]\n",
    "precio = int(\"\".join(precio))\n",
    "\n",
    "tienda = \"Warpig Games\"\n",
    "\n",
    "print(nombre)\n",
    "print(precio)"
   ]
  },
  {
   "cell_type": "code",
   "execution_count": 83,
   "metadata": {},
   "outputs": [
    {
     "name": "stdout",
     "output_type": "stream",
     "text": [
      "Dixit\n",
      "28000\n"
     ]
    }
   ],
   "source": [
    "## planeta loz\n",
    "\n",
    "asession = AsyncHTMLSession()\n",
    "\n",
    "r = await asession.get('https://www.planetaloz.cl/juegos-de-mesa/97-dixit.html')\n",
    "nombre = r.html.find('title', first=True)\n",
    "nombre = nombre.full_text.encode(\"ascii\", \"ignore\")\n",
    "nombre = nombre.decode()\n",
    "\n",
    "precio = r.html.find('span[itemprop=\"price\"]', first=True)\n",
    "precio = precio.full_text\n",
    "precio = [x for x in precio if x.isdigit()]\n",
    "precio = int(\"\".join(precio))\n",
    "\n",
    "print(nombre)\n",
    "print(precio)"
   ]
  }
 ],
 "metadata": {
  "kernelspec": {
   "display_name": "Python 3",
   "language": "python",
   "name": "python3"
  },
  "language_info": {
   "codemirror_mode": {
    "name": "ipython",
    "version": 3
   },
   "file_extension": ".py",
   "mimetype": "text/x-python",
   "name": "python",
   "nbconvert_exporter": "python",
   "pygments_lexer": "ipython3",
   "version": "3.8.5"
  }
 },
 "nbformat": 4,
 "nbformat_minor": 4
}
